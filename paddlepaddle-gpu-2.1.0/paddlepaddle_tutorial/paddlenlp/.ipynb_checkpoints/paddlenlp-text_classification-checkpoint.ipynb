{
 "cells": [
  {
   "cell_type": "code",
   "execution_count": 1,
   "id": "f3ac0582",
   "metadata": {},
   "outputs": [
    {
     "name": "stderr",
     "output_type": "stream",
     "text": [
      "\u001b[32m[2021-07-19 20:02:14,726] [    INFO]\u001b[0m - Loading token embedding...\u001b[0m\n",
      "\u001b[32m[2021-07-19 20:02:20,115] [    INFO]\u001b[0m - Finish loading embedding vector.\u001b[0m\n",
      "\u001b[32m[2021-07-19 20:02:20,117] [    INFO]\u001b[0m - Token Embedding info:             \n",
      "Unknown index: 352217             \n",
      "Unknown token: [UNK]             \n",
      "Padding index: 352218             \n",
      "Padding token: [PAD]             \n",
      "Shape :[352219, 300]\u001b[0m\n"
     ]
    }
   ],
   "source": [
    "from paddlenlp.embeddings import TokenEmbedding\n",
    "\n",
    "token_embedding = TokenEmbedding(embedding_name=\"w2v.wiki.target.word-word.dim300\")\n"
   ]
  },
  {
   "cell_type": "code",
   "execution_count": 2,
   "id": "db1b6383",
   "metadata": {},
   "outputs": [
    {
     "data": {
      "text/plain": [
       "300"
      ]
     },
     "execution_count": 2,
     "metadata": {},
     "output_type": "execute_result"
    }
   ],
   "source": [
    "token_embedding.embedding_dim"
   ]
  },
  {
   "cell_type": "code",
   "execution_count": null,
   "id": "60973897",
   "metadata": {},
   "outputs": [],
   "source": []
  }
 ],
 "metadata": {
  "kernelspec": {
   "display_name": "Python 3",
   "language": "python",
   "name": "python3"
  },
  "language_info": {
   "codemirror_mode": {
    "name": "ipython",
    "version": 3
   },
   "file_extension": ".py",
   "mimetype": "text/x-python",
   "name": "python",
   "nbconvert_exporter": "python",
   "pygments_lexer": "ipython3",
   "version": "3.6.13"
  }
 },
 "nbformat": 4,
 "nbformat_minor": 5
}
