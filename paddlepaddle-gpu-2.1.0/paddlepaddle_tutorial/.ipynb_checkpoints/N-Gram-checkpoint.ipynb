{
 "cells": [
  {
   "cell_type": "code",
   "execution_count": 1,
   "id": "9c6261c5",
   "metadata": {},
   "outputs": [
    {
     "data": {
      "text/plain": [
       "'2.1.0'"
      ]
     },
     "execution_count": 1,
     "metadata": {},
     "output_type": "execute_result"
    }
   ],
   "source": [
    "import paddle\n",
    "paddle.__version__"
   ]
  },
  {
   "cell_type": "code",
   "execution_count": 3,
   "id": "b2a5e1d7",
   "metadata": {},
   "outputs": [
    {
     "name": "stdout",
     "output_type": "stream",
     "text": [
      "Length of text: 5458199 characters\n"
     ]
    }
   ],
   "source": [
    "data_path = \"/home/gaojing/PTM/datasets/n-gram/t8.shakespeare.txt\"\n",
    "test_sentence = open(data_path, 'rb').read().decode(encoding='utf-8')\n",
    "print ('Length of text: {} characters'.format(len(test_sentence)))"
   ]
  },
  {
   "cell_type": "code",
   "execution_count": 4,
   "id": "bb4324a2",
   "metadata": {},
   "outputs": [
    {
     "name": "stdout",
     "output_type": "stream",
     "text": [
      "{'!': '', '\"': '', '#': '', '$': '', '%': '', '&': '', \"'\": '', '(': '', ')': '', '*': '', '+': '', ',': '', '-': '', '.': '', '/': '', ':': '', ';': '', '<': '', '=': '', '>': '', '?': '', '@': '', '[': '', '\\\\': '', ']': '', '^': '', '_': '', '`': '', '{': '', '|': '', '}': '', '~': ''}\n"
     ]
    }
   ],
   "source": [
    "##处理标点符号\n",
    "from string import punctuation\n",
    "process_dicts={i:'' for i in punctuation}\n",
    "print(process_dicts)\n",
    "\n",
    "punc_table = str.maketrans(process_dicts)\n",
    "test_sentence = test_sentence.translate(punc_table)"
   ]
  },
  {
   "cell_type": "code",
   "execution_count": 8,
   "id": "2c0e079c",
   "metadata": {},
   "outputs": [
    {
     "name": "stdout",
     "output_type": "stream",
     "text": [
      "2500\n",
      "['the', 'and', 'i', 'to', 'of', 'a', 'you', 'my', 'that', 'in', 'is', 'not', 'for', 'with', 'me', 'it', 'be', 'your', 'his', 'this', 'but', 'he', 'as', 'have', 'thou', 'so', 'him', 'will', 'what', 'by', 'thy', 'all', 'are', 'her', 'no', 'do', 'shall', 'if', 'we', 'thee', 'or', 'our', 'lord', 'on', 'king', 'good', 'now', 'sir', 'from', 'o', 'at', 'come', 'they', 'well', 'which', 'would', 'more', 'was', 'then', 'she', 'am', 'how', 'here', 'let', 'enter', 'their', 'love', 'when', 'them', 'ill', 'hath', 'than', 'may', 'an', 'man', 'there', 'one', 'go', 'upon', 'like', 'say', 'know', 'make', 'did', 'us', 'such', 'were', 'should', 'yet', 'must', 'why', 'see', 'had', 'tis', 'out', 'some', 'give', 'these', 'time', 'too', 'where', 'can', 'who', 'take', 'most', 'speak', 'first', 'mine', 'th', 'duke', 'up', 'tell', 'much', 'exeunt', 'think', 'never', 'heart', 'exit', 'nor', 'queen', 'doth', 'any', 'art', 'great', 'hear', 'lady', 'away', 'death', 'men', 'world', 'hand', 'father', 'before', 'life', 'look', 'made', 'very', 'scene', 'true', 'sweet', 'thus', 'god', 'own', 'again', 'master', 'ay', 'cannot', 'fair', 'prince', 'pray', 'day', 'old', 'two', 'been', 'son', 'eyes', 'other', 'long', 'being', 'name', 'down', 'leave', 'done', 'both', 'into', 'blood', 'nothing', 'night', 'though', 'therefore', 'poor', 'fear', 'could', 'till', 'comes', 'whose', 'heaven', 'noble', 'ever', 'against', 'better', 'hast', 'nay', 'grace', 'gloucester', 'many', 'second', 'honour', 'even', 'stand', 'myself', 'henry', 'way', 'brother', 'call', 'still', 'use', 'those', 'john', 'house', 'bear', 'peace', 'only', 'dead', 'find', 'france', 'caesar', 'head', 'gentleman', 'live', 'wife', 'antony', 'madam', 'part', 'richard', 'word', 'lords', 'might', 'put', 'within', 'every', 'york', 'brutus', 'little', 'friends', 'off', 'keep', 'die', 'none', 'aside', 'gone', 'set', 'young', 'hold', 'fool', 'best', 'thine', 'himself', 'mistress', 'others', 'since', 'dear', 'copies', 'bring', 'falstaff', 'electronic', 'distributed', 'service', 'soul', 'indeed', 'friend', 'another', 'place', 'page', 'dost', 'unto', 'stay', 'whom', 'words', 'once', 'eye', 'boy', 'else', 'face', 'show', 'servant', 'full', 'gods', 'warwick', 'daughter', 'after', 'about', 'faith', 'thats', 'tongue', 'please', 'theres', 'has', 'three', 'said', 'answer', 'thought', 'forth', 'gentle', 'hence', 'welcome', 'marry', 'without', 'iago', 'mother', 'ere', 'makes', 'ham', 'mind', 'thing', 'hope', 'matter', 'farewell', 'right', 'clown', 'william', 'sword', 'act', 'end', 'heard', 'nature', 'rest', 'home', 'whats', 'cause', 'bid', 'things', 'back', 'came', 'truth', 'rome', 'othello', 'does', 'meet', 'lie', 'thousand', 'woman', 'rather', 'hands', 'edward', 'help', 'news', 'fortune', 'get', 'enough', 'fellow', '1', 'follow', 'timon', 'wilt', 'power', 'state', 'play', 'shame', '2', 'earth', 'messenger', 'hour', 'fall', 'pardon', 'hes', 'shalt', 'sure', 'hither', 'husband', 'under', 'false', 'ye', 'thank', 'loves', 'honest', 'kings', 'tears', 'macbeth', 'mean', 'reason', 'yourself', 'far', 'kind', 'lets', 'lay', 'youth', 'fight', 'fathers', 'hell', 'ford', 'bed', 'shakespeare', 'last', 'turn', 'seen', 'sent', 'near', 'england', 'light', 'means', 'rosalind', 'spirit', 'cleopatra', 'through', 'saw', 'lucius', 'wit', 'send', 'cousin', 'break', 'sleep', 'crown', 'majesty', 'together', 'body', 'yours', 'fire', 'lost', 'swear', 'court', 'hot', 'buckingham', 'soldier', 'provided', 'war', 'prove', 'shallow', 'arms', 'antonio', 'works', 'reenter', 'troilus', 'strange', 'project', 'suffolk', 'complete', 'thoughts', 'letter', 'lies', 'left', 'while', 'present', 'cassio', 'etext', 'used', 'fly', 'villain', 'each', 'speed', 'third', 'mad', 'itself', 'says', 'justice', 'syracuse', 'charges', 'alone', 'times', 'between', 'personal', 'beat', 'gutenberg', 'believe', 'library', 'child', 'tomorrow', 'business', 'high', 'days', 'titus', 'valentine', 'gave', 'cassius', 'lear', 'copyright', 'wrong', 'seek', 'told', 'college', 'mark', 'soldiers', 'desdemona', 'permission', 'inc', 'readable', 'distribution', 'bloody', 'hearts', 'found', 'alas', 'french', 'illinois', 'benedictine', 'machine', 'includes', 'beseech', 'dromio', 'version', 'sun', 'worthy', '19901993', 'commercially', 'prohibited', 'commercial', 'download', 'membership', 'less', 'horse', 'antipholus', 'proteus', 'desire', 'same', 'foul', 'sound', 'pity', 'gold', 'devil', 'ha', 'neer', 'prithee', 'mrs', 'cry', 'looks', 'care', 'coriolanus', 'new', 'knows', 'grief', 'sit', 'save', 'gentlemen', 'royal', 'clarence', 'petruchio', 'wish', 'heres', 'angelo', 'dare', 'purpose', 'lose', 'draw', 'breath', 'half', 'land', 'bastard', 'toby', 'company', 'general', 'worth', 'lives', 'nurse', 'margaret', 'proud', 'oer', 'yes', 'read', 'happy', 'beauty', 'music', 'sea', 'wear', 'charge', 'people', 'sight', 'talk', 'pompey', 'kill', 'quickly', 'age', 'hector', 'return', 'brought', 'menenius', 'berowne', 'cold', 'gracious', 'holy', 'sons', 'uncle', 'ho', 'thyself', 'helena', 'run', 'late', 'dog', 'law', 'given', 'joy', 'ear', 'kent', 'further', 'years', 'patience', 'bardolph', 'remember', 'tonight', 'yea', 'highness', 'free', 'field', 'known', 'because', 'kiss', 'sister', 'pandarus', 'work', 'comfort', 'serve', 'citizen', 'neither', 'strong', 'virtue', 'watch', 'air', 'pistol', 'ah', 'didst', 'ist', 'money', 'praise', 'friar', 'need', 'sorrow', 'something', 'pleasure', 'calld', 'cressida', 'grave', 'hate', 'heavens', 'certain', 'wind', 'trust', 'seem', 'bound', 'parolles', 'bolingbroke', 'portia', 'warrant', 'claudio', 'anne', 'canst', 'sake', 'goes', 'mercy', 'maid', 'princess', 'thanks', 'truly', 'side', 'doubt', 'cut', 'command', 'ii', 'masters', 'captain', 'foot', 'merry', 'next', 'rich', 'hang', 'today', 'em', 'host', 'achilles', 'either', 'demetrius', 'ephesus', 'heavy', 'born', 'over', 'knave', 'english', 'orlando', 'weep', 'sick', 'imogen', 'rom', 'fault', 'wise', 'hard', 'ask', 'almost', 'worse', 'ground', 'twas', 'fit', 'brave', 'black', 'mans', 'sad', 'palace', 'isabella', 'behold', 'themselves', 'took', 'knew', 'ring', 'women', 'brothers', 'content', 'course', 'haste', 'enemy', 'talbot', 'base', 'voice', 'ears', 'ten', 'having', 'change', 'stands', 'pedro', 'coming', 'drink', 'revenge', 'strike', 'enobarbus', 'unless', 'earl', 'fie', 'methinks', 'fortunes', 'straight', 'sin', 'shes', 'duty', 'common', 'fal', 'hours', 'note', 'valiant', 'hastings', 'leontes', 'four', 'person', 'married', 'question', 'oft', 'northumberland', 'emilia', 'spoke', 'youll', 'deed', 'above', 'gives', 'open', 'needs', 'lead', 'pass', 'already', 'sirrah', 'hark', 'olivia', 'past', 'lest', 'report', 'oath', 'salisbury', 'julia', 'ladies', 'iii', 'door', 'cardinal', 'somerset', 'point', 'wars', 'yield', 'twenty', 'ready', 'marcius', 'eat', 'sovereign', 'soon', 'withal', 'attendants', 'arm', 'viola', 'become', 'suit', 'presently', 'london', 'duchess', 'prospero', 'sebastian', 'sing', 'wherefore', 'just', 'liege', 'tranio', 'tender', 'self', 'pay', 'country', 'marcus', 'sicinius', 'grow', 'romeo', 'deep', 'lips', 'paris', 'lovd', 'fare', 'bold', 'bertram', 'signior', 'bene', 'want', 'water', 'met', 'clifford', 'deny', 'wouldst', 'flourish', 't', 'lucio', 'apemantus', 'princes', 'souls', 'wherein', 'caius', 'flesh', 'sworn', 'counsel', 'knight', 'letters', 'fast', 'appear', 'guard', 'spirits', 'posthumus', 'slave', 'city', 'mouth', 'speaks', 'norfolk', 'white', 'fell', 'woe', 'pale', 'anon', 'office', 'speech', 'ajax', 'charles', 'moon', 'confess', 'five', 'saint', 'celia', 'lucentio', 'write', 'bosom', 'slain', 'witness', 'town', 'thersites', 'malvolio', 'silvia', 'glad', 'morning', 'sense', 'claud', 'camillo', 'often', 'sport', 'walk', 'twere', 'traitor', 'armado', 'march', 'bad', 'got', 'conscience', 'fetch', 'roman', 'rage', 'countess', 'iv', 'living', 'whole', 'costard', 'bassanio', 'leon', 'strength', 'deeds', 'excellent', 'dream', 'soft', 'elizabeth', 'behind', 'favour', 'lafeu', 'glou', 'loss', 'fools', 'hero', 'jul', 'pretty', 'attend', 'wonder', 'seems', 'servants', 'killd', 'provost', 'plain', 'whilst', 'loving', 'win', 'vile', 'hair', 'de', 'ourselves', 'hortensio', 'hundred', 'action', 'ulysses', 'maria', 'form', 'begin', 'touch', 'lordship', 'chamber', 'parts', 'longer', 'simple', 'silence', 'along', 'battle', 'bianca', 'pride', 'enemies', 'heads', 'entreat', 'hostess', 'katherina', 'widow', 'issue', 'hide', 'marriage', 'noise', 'drum', 'shepherd', 'case', 'grant', 'takes', 'dull', 'children', 'morrow', 'doctor', 'mighty', 'cymbeline', 'hor', 'katharine', 'macduff', 'heir', 'chief', 'besides', 'slender', 'kate', 'count', 'pluck', 'bears', 'force', 'hamlet', 'baptista', 'harry', 'evans', 'presence', 'passion', 'going', 'tale', 'shylock', 'roderigo', 'choose', 'worst', 'bless', 'anything', 'paper', 'green', 'chance', 'died', 'teach', 'throw', 'wheres', 'charmian', 'cominius', 'cloten', 'castle', 'toward', 'shows', 'weak', 'faults', 'feel', 'jest', 'ont', 'tot', 'officer', 'bottom', 'close', 'pisanio', 'poins', 'subject', 'dies', 'promise', 'health', 'honourable', 'awhile', 'dauphin', 'moth', 'least', 'gainst', 'shake', 'hadst', 'quick', 'adieu', 'gates', 'buy', 'cap', 'boyet', 'writ', 'respect', 'feast', 'judgment', 'deliver', 'wolsey', 'small', 'fashion', 'curse', 'went', 'danger', 'wast', 'dangerous', 'troth', 'gratiano', 'lysander', 'lack', 'move', 'understand', 'escalus', 'v', 'exeter', 'edg', 'kept', 'breast', 'herself', 'aufidius', 'cade', 'hermia', 'receive', 'mortal', 'low', 'wert', 'whether', 'cast', 'boys', 'quarrel', 'army', 'iachimo', 'aaron', 'stop', 'beard', 'virtuous', 'scorn', 'won', 'measure', 'foolish', 'valour', 'beg', 'grumio', 'short', 'fine', 'consent', 'offence', 'hearing', 'plague', 'taken', 'honours', 'tent', 'westmoreland', 'hubert', 'try', 'mothers', 'lend', 'wisdom', 'among', 'laid', 'angry', 'worship', 'stood', 'taen', 'lookd', 'rosaline', 'aguecheek', 'year', 'calls', 'sorry', 'mens', 'forget', 'book', 'thither', 'troy', 'harm', 'order', 'witch', 'murderer', 'agamemnon', 'gremio', 'golden', 'sings', 'brief', 'learn', 'kingdom', 'wood', 'prison', 'lion', 'pains', 'emperor', 'adriana', 'ariel', 'perceive', 'alive', 'thence', 'commend', 'hurt', 'forward', 'banishd', 'ass', 'trumpets', 'turnd', 'senator', 'stephano', 'forgot', 'fearful', 'treason', 'reads', 'fluellen', 'tamora', 'fled', 'grey', 'ours', 'whither', 'jaques', 'touchstone', 'judge', 'lewis', 'officers', 'fresh', 'shape', 'title', 'carry', 'patient', 'dinner', 'offer', 'piece', 'quite', 'birth', 'greater', 'mock', 'humour', 'prayers', 'honesty', 'alarum', 'diomedes', 'corn', 'pol', 'moor', 'venice', 'walls', 'drawn', 'glory', 'whos', 'coward', 'ghost', 'wild', 'blow', 'broke', 'laugh', 'constable', 'caesars', 'held', 'womans', 'steal', 'wits', 'int', 'wounds', 'trumpet', 'polixenes', 'paulina', 'whereof', 'tongues', 'amen', 'feed', 'opinion', 'street', 'wine', 'jack', 'aeneas', 'holds', 'blame', 'suffer', 'citizens', 'purse', 'belarius', 'launcelot', 'launce', 'making', 'prisoner', 'falls', 'stir', 'match', 'safe', 'lorenzo', 'blind', 'tear', 'taste', 'double', 'fort', 'manner', 'dukes', 'labour', 'lancaster', 'pucelle', 'although', 'song', 'folly', 'borne', 'motion', 'brain', 'vow', 'poison', 'several', 'eer', 'fellows', 'camp', 'rogue', 'sudden', 'whiles', 'burgundy', 'edm', 'excuse', 'knowledge', 'burn', 'shadow', 'rise', 'vain', 'desires', 'daughters', 'ancient', 'tower', 'grows', 'blessed', 'view', 'quiet', 'trouble', 'alack', 'awake', 'fears', 'smile', 'la', 'brook', 'percy', 'plantagenet', 'due', 'weary', 'sometime', 'precious', 'aught', 'dark', 'until', 'proof', 'endure', 'obey', 'greatness', 'dumain', 'princely', 'guiderius', 'wales', 'juliet', 'shouldst', 'keeps', 'cunning', 'bones', 'whence', 'goodly', 'drop', 'terms', 'helen', 'lieutenant', 'thomas', 'peter', 'autolycus', 'lo', 'forbid', 'lovers', 'forgive', 'cheek', 'struck', 'bitter', 'bond', 'woo', 'dot', 'occasion', 'round', 'ant', 'fabian', 'wound', 'foes', 'wrongs', 'liberty', 'knowst', 'owe', 'twixt', 'cheer', 'colour', 'yourselves', 'safety', 'affection', 'heels', 'ones', 'knock', 'train', 'reg', 'biondello', 'patroclus', 'effect', 'advantage', 'proceed', 'cheeks', 'neck', 'dispatch', 'approach', 'swords', 'athens', 'orleans', 'casca', 'ross', 'catesby', 'lavinia', 'rude', 'wealth', 'large', 'beast', 'fill', 'dance', 'scarce', 'malice', 'jove', 'blows', 'edmund', 'montague', 'aumerle', 'caliban', 'thurio', 'cruel', 'leaves', 'stars', 'twice', 'bearing', 'manners', 'towards', 'room', 'wretched', 'guilty', 'legs', 'lepidus', 'forest', 'seven', 'wall', 'brow', 'sort', 'melancholy', 'reasons', 'spent', 'doing', 'catch', 'oaths', 'traitors', 'choice', 'meat', 'priest', 'yonder', 'pleasd', 'christian', 'sayst', 'hangd', 'cried', 'monster', 'archbishop', 'gaunt', 'philip', 'banquo', 'theseus', 'bright', 'mayst', 'rough', 'follows', 'steel', 'pure', 'fame', 'red', 'drunk', 'madness', 'ways', 'embrace', 'led', 'volumnia', 'chamberlain', 'jew', 'richmond', 'ben', 'graces', 'blunt', 'argument', 'affairs', 'story', 'creature', 'vows', 'gentlewoman', 'courage', 'throne', 'hail', 'tribunes', 'gonzalo', 'spend', 'natures', 'private', 'seal', 'thief', 'thrice', 'idle', 'becomes', 'fain', 'fat', 'defend', 'george', 'katherine', 'benedick', 'request', 'paid', 'depart', 'gift', 'heat', 'prepare', 'dry', 'pain', 'swift', 'food', 'fury', 'deserve', 'loud', 'fought', 'quoth', 'damnd', 'colours', 'murder', 'winchester', 'nestor', 'nerissa', 'saturninus', 'rose', 'breathe', 'few', 'horses', 'monstrous', 'nose', 'courtesy', 'post', 'eros', 'chain', 'englands', 'mortimer', 'miranda', 'lucetta', 'remembrance', 'husbands', 'secret', 'cries', 'cross', 'remain', 'leisure', 'sharp', 'former', 'subjects', 'forsworn', 'minds', 'humble', 'fiend', 'diana', 'livd', 'wicked', 'knee', 'proper', 'abroad', 'niece', 'church', 'arviragus', 'nym', 'foe', 'evil', 'thunder', 'gate', 'sometimes', 'stones', 'wait', 'always', 'easy', 'sooner', 'tune', 'twill', 'crowns', 'kneel', 'wives', 'doors', 'study', 'claim', 'laer', 'flavius', 'holofernes', 'mer', 'hermione', 'silver', 'lawful', 'instant', 'broken', 'finger', 'warlike', 'humbly', 'ladys', 'arthur', 'alcibiades', 'rain', 'nine', 'nights', 'beggar', 'mend', 'wanton', 'asleep', 'demand', 'spare', 'fail', 'le', 'senators', 'merchant', 'mowbray', 'longaville', 'pyramus', 'trinculo', 'florizel', 'spring', 'offend', 'sits', 'poet', 'jewel', 'clouds', 'dust', 'repent', 'spite', 'clear', 'stone', 'remedy', 'able', 'mar', 'beyond', 'powers', 'discourse', 'virtues', 'dreadful', 'lands', 'hit', 'mayor', 'malcolm', 'jessica', 'andronicus', 'list', 'memory', 'herald', 'single', 'griefs', 'stoln', 'seat', 'thinks', 'aid', 'giving', 'shut', 'mere', 'receivd', 'possible', 'natural', 'feet', 'rivers', 'oph', 'stanley', 'alb', 'public', 'seeming', 'nought', 'rare', 'buried', 'grown', 'forbear', 'bids', 'wretch', 'join', 'hopes', 'trial', 'six', 'horns', 'happiness', 'meaning', 'condition', 'agrippa', 'romans', 'storm', 'fairy', 'luciana', 'sack', 'beatrice', 'particular', 'sum', 'glass', 'fond', 'thrive', 'teeth', 'therein', 'bare', 'ride', 'delight', 'gain', 'betwixt', 'goodness', 'saying', 'rascal', 'wench', 'names', 'devils', 'weeping', 'humphrey', 'freely', 'quality', 'wide', 'table', 'turns', 'begins', 'dearest', 'absence', 'authority', 'countenance', 'cure', 'voices', 'denied', 'undone', 'usd', 'wings', 'wrath', 'visit', 'oxford', 'puck', 'tybalt', 'below', 'tomb', 'summer', 'heavenly', 'faces', 'perfect', 'puts', 'thrust', 'anger', 'shore', 'flies', 'gross', 'despair', 'ease', 'supper', 'oliver', 'villains', 'reverend', 'charity', 'edwards', 'keeper', 'worlds', 'womb', 'lovely', 'intend', 'sorrows', 'brings', 'ransom', 'blest', 'heed', 'protest', 'spoken', 'flight', 'deal', 'gallant', 'showd', 'menas', 'pound', 'ducats', 'realm', 'gower', 'ferdinand', 'gon', 'quince', 'following', 'despite', 'painted', 'counterfeit', 'naked', 'lover', 'vouchsafe', 'wake', 'knife', 'seest', 'drops', 'sickness', 'plot', 'angel', 'knaves', 'encounter', 'tidings', 'promisd', 'innocent', 'maids', 'followers', 'obedience', 'vengeance', 'chiron', 'number', 'treasure', 'top', 'sigh', 'kindness', 'hers', 'greatest', 'durst', 'vice', 'envy', 'credit', 'neighbour', 'shed', 'fourth', 'wash', 'dogs', 'francis', 'swore', 'mirth', 'meeting', 'ship', 'girl', 'tree', 'knees', 'sign', 'britain', 'doll', 'party', 'deaths', 'merit', 'early', 'slow', 'sighs', 'blush', 'seeing', 'guess', 'rank', 'appears', 'assure', 'trick', 'modesty', 'yare', 'touchd', 'bought', 'suddenly', 'streets', 'tide', 'throat', 'empty', 'returnd', 'surrey', 'protector', 'alonso', 'breed', 'chide', 'meant', 'doom', 'consider', 'tyrant', 'outward', 'winds', 'bestow', 'civil', 'jealous', 'taught', 'divine', 'learned', 'desperate', 'sleeping', 'ends', 'rule', 'gown', 'theyll', 'tailor', 'council', 'perchance', 'spake', 'deadly', 'intent', 'murther', 'elbow', 'reignier', 'cost', 'constant', 'skill', 'plead', 'disgrace', 'smell', 'devise', 'sail', 'garments', 'wont', 'gifts', 'success', 'estate', 'conduct', 'ignorant', 'hereafter', 'draws', 'challenge', 'stuff', 'execution', 'henrys', 'don', 'bedford', 'alencon', 'constance', 'salerio', 'reputation', 'winter', 'flowers', 'sacred', 'sounds', 'strikes', 'cease', 'speaking', 'limbs', 'enjoy', 'loved', 'prize', 'fiery', 'main', 'contrary', 'thinking', 'bow', 'cup', 'perforce', 'sees', 'steward', 'fancy', 'forsooth', 'stranger', 'commission', 'falln', 'octavius', 'victory', 'dread', 'raise', 'satisfied', 'loose', 'hollow', 'degree', 'horatio', 'laertes', 'messala', 'vincentio', '3', 'image', 'abuse', 'frame', 'fairly', 'seas', 'frown', 'dreams', 'brains', 'slander', 'knowing', 'bark', 'blessing', 'burden', 'sides', 'dying', 'mariana', 'contempt', 'kisses', 'shell', 'id', 'window', 'beaten', 'hie', 'kinsman', 'dares', 'oclock', 'quit', 'egypt', 'thinkst', 'twelve', 'thieves', 'shortly', 'phebe', 'flood', 'north', 'prisoners', 'thisby', 'fenton', 'brabantio', 'repair', 'burning', 'triumph', 'haply', 'woes', 'account', 'shine', 'policy', 'lust', 'ambition', 'attended', 'shot', 'bend', 'tarry', 'behalf', 'hat', 'playd', 'drownd', 'whore', 'empress', 'liest', 'according', 'ros', 'oberon', 'ratcliff', 'bassianus', 's', 'its', 'waste', 'warm', 'tells', 'painter', 'fate', 'hid', 'desert', 'weight', 'root', 'weeds', 'perhaps', 'equal', 'unknown', 'fingers', 'bind', 'brows', 'salt', 'offended', 'bade', 'servd', 'tedious', 'undertake', 'disposition', 'parted', 'sleeps', 'feard', 'octavia', 'silvius', 'movd', 'garden', 'iron', 'bodies', 'countrys', 'smiles', 'porter', 'damned', 'forces', 'davy', 'cromwell', 'lodovico', 'midnight', 'attending', 'numbers', 'lions', 'star', 'farther', 'flatter', 'drown', 'greet', 'flower', 'line', 'faint', 'big', 'bred', 'runs', 'advice', 'native', 'methought', 'peril', 'fish', 'soothsayer', 'iras', 'sisters', 'custom', 'odds', 'capitol', 'yond', 'sirs', 'weapons', 'regard', 'gent', 'bishop', 'month', 'maiden', 'west', 'dearly', 'mars', 'crave', 'debt', 'finds', 'revolt', 'alike', 'affections', 'weigh', 'maintain', 'render', 'bury', 'stomach', 'friendship', 'search', 'darst', 'tread', 'everything', 'favours', 'drums', 'dagger', 'belike', 'sooth', 'queens', 'reverence', 'device', 'sheep', 'fatal', 'nobles', 'apt', 'mischief', 'tempest', 'hal', 'hugh', 'leonato', 'perdita', 'also', 'laws', 'fairest', 'creatures', 'substance', 'conceit', 'wrought', 'reign', 'picture', 'solemn', 'edge', 'firm', 'fits', 'season', 'monsieur', 'wishd', 'practice', 'afraid', 'passd', 'deceivd', 'sore', 'gaoler', 'armour', 'moe', 'countrymen', 'lartius', 'servingman', 'sly', 'douglas', 'pembroke', 'padua', 'hill', 'bounty', 'barren', 'complexion', 'fierce', 'elder', 'dumb', 'apparel', 'grieve', 'glorious', 'sins', 'ignorance', 'lean', 'ripe', 'figure', 'bird', 'followed', 'mistake', 'commanded', 'cupid', 'months', 'hazard', 'wants', 'displeasure', 'clothes', 'violent', 'purposes', 'villainy', 'henceforth', 'pair', 'sends', 'bite', 'apart', 'possessd', 'whoreson', 'banishment', 'senate', 'fairies', 'murtherer', 'canterbury', 'lovell', 'milan', 'cinna', 'titania', 'timons', 'beauteous', 'dwell', 'willing', 'sky', 'pen', 'acquainted', 'object', 'sell', 'darkness', 'benefit', 'stain', 'entertain', 'prey', 'add', 'remains', 'commit', 'thereof', 'vantage', 'sold', 'east', 'habit', 'alls', 'advise', 'wears', 'impossible', 'armd', 'sentence', 'proclaim', 'aim', 'deservd', 'chair', 'places', 'surely', 'dishonour', 'hardly', 'answerd', 'utter', 'dolabella', 'crownd', 'stroke', 'isle', 'staff', 'hateful', 'adam', 'cave', 'prologue', 'windsor', 'books', 'arise', 'fairer', 'store', 'clock', 'eternal', 'hanging', 'stronger', 'twain', 'appetite', 'suspect', 'deserves', 'afterwards', 'accuse', 'wounded', 'except', 'chaste', 'rock', 'modest', 'minister', 'infinite', 'misery', 'wrongd', 'unhappy', 'ladyship', 'sweat', 'perform', 'slaves', 'avoid', 'robin', 'unnatural', 'pause', 'virgilia', 'cell', 'tut', 'peers', 'osw', 'entertainment', 'otherwise', 'summers', 'feeble', 'defence', 'stage', 'babe', 'abide', 'rotten', 'amiss', 'special', 'tame', 'ruin', 'bell', 'birds', 'profit', 'slept', 'bent', 'dignity', 'betray', 'difference', 'stays', 'companion', 'hangs', 'deer', 'deliverd', 'amongst', 'assurd', 'cares', 'angels', 'ambitious', 'slew', 'heartily', 'pieces', 'trade', 'scape', 'retire', 'banished', 'earnest', 'marks', 'banish', 'mess', 'titinius', 'edgar', 'duncan', 'bora', 'honor', 'express', 'silent', 'sought', 'sway', 'acquaintance', 'monument', 'mouths', 'familiar', 'fruit', 'pleasures', 'lip', 'committed', 'groans', 'senses', 'dramatis', 'personae', 'necessity', 'courtier', 'worn', 'pour', 'taking', 'language', 'bravely', 'leg', 'serves', 'unworthy', 'nobly', 'instrument', 'friendly', 'nobility', 'whip', 'hercules', 'glove', 'smooth', 'seemd', 'jupiter', 'stayd', 'eight', 'plays', 'senior', 'belly', 'bawd', 'goths', 'passing', 'scotland', 'withdraw', 'cur', 'handkerchief', 'polonius', 'nathaniel', 'pedant', 'montano', 'written', 'discover', 'car', 'huge', 'looking', 'morn', 'guest', 'confound', 'jealousy', 'kingdoms', 'willingly', 'saucy', 'tall', 'felt', 'knights', 'partly', 'tyranny', 'snow', 'passage', 'blown', 'italy', 'reward', 'attendant', 'performd', 'kindly', 'delay', 'een', 'pocket', 'speakst', 'corin', 'envious', 'coz', 'players', 'rob', 'park', 'dew', 'wor', 'robert', 'gloucesters', 'cranmer', 'lucilius', 'athenian', 'lennox', 'reading', 'directly', 'convey', 'lusty', 'height', 'rhyme', 'lines', 'beside', 'boast', 'length', 'visage', 'messengers', 'league', 'falsehood', 'groan', 'services', 'graves', 'lamb', 'urge', 'chase', 'crying', 'marvel', 'wed', 'observe', 'attempt', 'kin', 'fox', 'enforce', 'bride', 'drive', 'direct', 'changd', 'cat', 'moved', 'sink', 'alexas', 'temper', 'prayer', 'beasts', 'drew', 'dish', 'revengd', 'miserable', 'frederick', 'tremble', 'circumstance', 'humours', 'dick', 'rebels', 'troyan', 'gardiner', 'verona', 'audience', 'winters', 'possession', 'travel', 'physic', 'sour', 'absent', 'bar', 'freedom', 'spur', 'honey', 'wolf', 'pleasant', 'wondrous', 'strive', 'pomp', 'gait', 'savage', 'younger', 'began', 'resolvd', 'horn', 'whisper', 'pursue', 'carried', 'guarded', 'weeps', 'satisfaction', 'captains', 'mount', 'stoop', 'powr', 'armed', 'diomed', 'calm', 'bleed', 'audrey', 'suits', 'faithful', 'greek', 'hall', 'commons', 'exchange', 'nephew', 'et', 'knocking', 'zeal', 'williams', 'island', 'menelaus', 'cressid', 'capulet', 'provide', 'breach', '4', 'leads', 'pitch', 'trees', 'earthly', 'knit', 'slight', 'grecian', 'signs', 'strife', 'grew', 'compass', 'feeling', 'bore', 'beshrew', 'press', 'virgin', 'wishes', 'continue', 'start', 'ins', 'honourd', 'standing', 'band', 'pinch', 'dozen', 'afeard', 'conference', 'discretion', 'alexander', 'renowned', 'shoulders', 'odd', 'charm', 'beggars', 'orchard', 'wisely', 'fright', 'sixth', 'hunt', 'towns', 'parley', 'publius', 'cor', 'outlaw', 'suspicion', 'isabel', 'naples', 'dorset', 'goneril', 'regan', 'rugby', 'antigonus', 'bohemia', 'fifty', 'notice', 'conquest', 'fore', 'perish']\n"
     ]
    }
   ],
   "source": [
    "##对句子进行截取2500个字\n",
    "test_sentence_list = test_sentence.lower().split()\n",
    "\n",
    "word_dict_count = {}\n",
    "for word in test_sentence_list:\n",
    "    word_dict_count[word] = word_dict_count.get(word, 0) + 1\n",
    "\n",
    "word_list = []\n",
    "soted_word_list = sorted(word_dict_count.items(), key=lambda x: x[1], reverse=True)\n",
    "for key in soted_word_list:\n",
    "    word_list.append(key[0])\n",
    "\n",
    "word_list = word_list[:2500]\n",
    "print(len(word_list))\n",
    "print(word_list)"
   ]
  },
  {
   "cell_type": "code",
   "execution_count": 6,
   "id": "cfda57ee",
   "metadata": {},
   "outputs": [],
   "source": [
    "# 设置参数\n",
    "hidden_size = 1024               # Linear层 参数\n",
    "embedding_dim = 256              # embedding 维度\n",
    "batch_size = 256                 # batch size 大小\n",
    "context_size = 2                 # 上下文长度\n",
    "vocab_size = len(word_list) + 1  # 词表大小\n",
    "epochs = 2                       # 迭代轮数"
   ]
  },
  {
   "cell_type": "code",
   "execution_count": 9,
   "id": "749d37cf",
   "metadata": {},
   "outputs": [
    {
     "name": "stdout",
     "output_type": "stream",
     "text": [
      "[[['this', 'is'], 'the'], [['is', 'the'], '100th'], [['the', '100th'], 'etext']]\n"
     ]
    }
   ],
   "source": [
    "trigram = [[[test_sentence_list[i], test_sentence_list[i + 1]], test_sentence_list[i + 2]]\n",
    "           for i in range(len(test_sentence_list) - 2)]\n",
    "\n",
    "word_to_idx = {word: i+1 for i, word in enumerate(word_list)}\n",
    "word_to_idx['<pad>'] = 0\n",
    "idx_to_word = {word_to_idx[word]: word for word in word_to_idx}\n",
    "\n",
    "# 看一下数据集\n",
    "print(trigram[:3])"
   ]
  },
  {
   "cell_type": "code",
   "execution_count": 10,
   "id": "9ca48a96",
   "metadata": {},
   "outputs": [
    {
     "data": {
      "text/plain": [
       "'this'"
      ]
     },
     "execution_count": 10,
     "metadata": {},
     "output_type": "execute_result"
    }
   ],
   "source": [
    "test_sentence_list[0]"
   ]
  },
  {
   "cell_type": "code",
   "execution_count": 18,
   "id": "82963849",
   "metadata": {},
   "outputs": [],
   "source": [
    "##重新paddle.io.Dataset数据\n",
    "import numpy as np\n",
    "class TrainDataset(paddle.io.Dataset):\n",
    "    def __init__(self, tuple_data):\n",
    "        self.tuple_data = tuple_data\n",
    "\n",
    "    def __getitem__(self, idx):\n",
    "        data = self.tuple_data[idx][0]\n",
    "        label = self.tuple_data[idx][1]\n",
    "        data = np.array(list(map(lambda word: word_to_idx.get(word, 0), data)))\n",
    "        label = np.array(word_to_idx.get(label, 0))\n",
    "        return data, label\n",
    "    \n",
    "    def __len__(self):\n",
    "        return len(self.tuple_data)\n",
    "    \n",
    "train_dataset = TrainDataset(trigram)\n",
    "train_loader = paddle.io.DataLoader(train_dataset, return_list=True, shuffle=True, \n",
    "                                    batch_size=batch_size, drop_last=True)"
   ]
  },
  {
   "cell_type": "code",
   "execution_count": 16,
   "id": "f1c71575",
   "metadata": {},
   "outputs": [
    {
     "data": {
      "text/plain": [
       "900985"
      ]
     },
     "execution_count": 16,
     "metadata": {},
     "output_type": "execute_result"
    }
   ],
   "source": [
    "train_dataset.tuple_data\n",
    "len(train_dataset)"
   ]
  },
  {
   "cell_type": "code",
   "execution_count": 19,
   "id": "acbd9629",
   "metadata": {},
   "outputs": [
    {
     "name": "stdout",
     "output_type": "stream",
     "text": [
      "epoch: 0, batch_id: 0, loss is: [7.8242297]\n",
      "epoch: 0, batch_id: 500, loss is: [5.4249544]\n",
      "epoch: 0, batch_id: 1000, loss is: [5.4307766]\n",
      "epoch: 0, batch_id: 1500, loss is: [5.435846]\n",
      "epoch: 0, batch_id: 2000, loss is: [5.158988]\n",
      "epoch: 0, batch_id: 2500, loss is: [5.5496907]\n",
      "epoch: 0, batch_id: 3000, loss is: [4.866588]\n",
      "epoch: 0, batch_id: 3500, loss is: [5.2369456]\n",
      "epoch: 1, batch_id: 0, loss is: [5.124364]\n",
      "epoch: 1, batch_id: 500, loss is: [5.4210806]\n",
      "epoch: 1, batch_id: 1000, loss is: [5.2266474]\n",
      "epoch: 1, batch_id: 1500, loss is: [5.34957]\n",
      "epoch: 1, batch_id: 2000, loss is: [5.0389977]\n",
      "epoch: 1, batch_id: 2500, loss is: [5.3679647]\n",
      "epoch: 1, batch_id: 3000, loss is: [5.7008166]\n",
      "epoch: 1, batch_id: 3500, loss is: [5.156628]\n"
     ]
    }
   ],
   "source": [
    "##模型搭建\n",
    "import paddle.nn.functional as F\n",
    "\n",
    "class NGramModel(paddle.nn.Layer):\n",
    "    def __init__(self,vocab_size,embedding_dim,context_size):\n",
    "        super(NGramModel,self).__init__()\n",
    "        self.embedding = paddle.nn.Embedding(num_embeddings=vocab_size, embedding_dim=embedding_dim)\n",
    "        self.linear1 = paddle.nn.Linear(context_size * embedding_dim, hidden_size)\n",
    "        self.linear2 = paddle.nn.Linear(hidden_size, vocab_size)\n",
    "        \n",
    "    def forward(self, x):\n",
    "        x = self.embedding(x)\n",
    "        x = paddle.reshape(x, [-1, context_size * embedding_dim])\n",
    "        x = self.linear1(x)\n",
    "        x = F.relu(x)\n",
    "        x = self.linear2(x)\n",
    "        return x\n",
    "        \n",
    "losses = []\n",
    "def train(model):\n",
    "    model.train()\n",
    "    optim = paddle.optimizer.Adam(learning_rate=0.01, parameters=model.parameters())\n",
    "    for epoch in range(epochs):\n",
    "        for batch_id, data in enumerate(train_loader()):\n",
    "            x_data = data[0]\n",
    "            y_data = data[1]\n",
    "            predicts = model(x_data)\n",
    "            loss = F.cross_entropy(predicts, y_data)\n",
    "            loss.backward()\n",
    "            if batch_id % 500 == 0:\n",
    "                losses.append(loss.numpy())\n",
    "                print(\"epoch: {}, batch_id: {}, loss is: {}\".format(epoch, batch_id, loss.numpy())) \n",
    "            optim.step()\n",
    "            optim.clear_grad()\n",
    "model = NGramModel(vocab_size, embedding_dim, context_size)\n",
    "train(model)"
   ]
  },
  {
   "cell_type": "code",
   "execution_count": 20,
   "id": "6080ab24",
   "metadata": {},
   "outputs": [
    {
     "data": {
      "text/plain": [
       "[<matplotlib.lines.Line2D at 0x7f334d8b4c18>]"
      ]
     },
     "execution_count": 20,
     "metadata": {},
     "output_type": "execute_result"
    },
    {
     "data": {
      "image/png": "[encoded data removed]",
      "text/plain": [
       "<Figure size 432x288 with 1 Axes>"
      ]
     },
     "metadata": {
      "needs_background": "light"
     },
     "output_type": "display_data"
    }
   ],
   "source": [
    "import matplotlib.pyplot as plt\n",
    "import matplotlib.ticker as ticker\n",
    "%matplotlib inline\n",
    "\n",
    "plt.figure()\n",
    "plt.plot(losses)"
   ]
  },
  {
   "cell_type": "code",
   "execution_count": null,
   "id": "414f053c",
   "metadata": {},
   "outputs": [],
   "source": []
  }
 ],
 "metadata": {
  "kernelspec": {
   "display_name": "Python 3",
   "language": "python",
   "name": "python3"
  },
  "language_info": {
   "codemirror_mode": {
    "name": "ipython",
    "version": 3
   },
   "file_extension": ".py",
   "mimetype": "text/x-python",
   "name": "python",
   "nbconvert_exporter": "python",
   "pygments_lexer": "ipython3",
   "version": "3.6.13"
  }
 },
 "nbformat": 4,
 "nbformat_minor": 5
}
